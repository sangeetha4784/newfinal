{
 "cells": [
  {
   "cell_type": "code",
   "execution_count": 1,
   "id": "5c13a60f",
   "metadata": {},
   "outputs": [
    {
     "name": "stdout",
     "output_type": "stream",
     "text": [
      "1\n"
     ]
    }
   ],
   "source": [
    "print (1)"
   ]
  },
  {
   "cell_type": "code",
   "execution_count": 1,
<<<<<<< HEAD
   "id": "0aaaf275",
=======
   "id": "18357527",
>>>>>>> 6e8d862868f189c8670946a40c8b2bc72556a885
   "metadata": {},
   "outputs": [
    {
     "name": "stdout",
     "output_type": "stream",
     "text": [
<<<<<<< HEAD
      "3\n"
=======
      "2\n"
>>>>>>> 6e8d862868f189c8670946a40c8b2bc72556a885
     ]
    }
   ],
   "source": [
<<<<<<< HEAD
    "print (3)"
=======
    "print (2)"
>>>>>>> 6e8d862868f189c8670946a40c8b2bc72556a885
   ]
  },
  {
   "cell_type": "code",
   "execution_count": null,
<<<<<<< HEAD
   "id": "667b0a8b",
=======
   "id": "a80b0ca5",
>>>>>>> 6e8d862868f189c8670946a40c8b2bc72556a885
   "metadata": {},
   "outputs": [],
   "source": []
  },
  {
   "cell_type": "code",
   "execution_count": null,
<<<<<<< HEAD
   "id": "7806b3de",
=======
   "id": "b86978cf",
>>>>>>> 6e8d862868f189c8670946a40c8b2bc72556a885
   "metadata": {},
   "outputs": [],
   "source": []
  }
 ],
 "metadata": {
  "kernelspec": {
   "display_name": "Python 3 (ipykernel)",
   "language": "python",
   "name": "python3"
  },
  "language_info": {
   "codemirror_mode": {
    "name": "ipython",
    "version": 3
   },
   "file_extension": ".py",
   "mimetype": "text/x-python",
   "name": "python",
   "nbconvert_exporter": "python",
   "pygments_lexer": "ipython3",
   "version": "3.11.5"
  }
 },
 "nbformat": 4,
 "nbformat_minor": 5
}
